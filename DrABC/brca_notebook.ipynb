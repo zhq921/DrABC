{
 "cells": [
  {
   "cell_type": "code",
   "execution_count": null,
   "metadata": {},
   "outputs": [],
   "source": [
    "import sys\n",
    "import torch\n",
    "import numpy as np\n",
    "import pandas as pd\n",
    "sys.path.append('./brca_model.py')\n",
    "from brca_model import BRCAForest, load_file"
   ]
  },
  {
   "cell_type": "code",
   "execution_count": null,
   "metadata": {},
   "outputs": [],
   "source": [
    "is_cuda = torch.cuda.is_available()\n",
    "device = torch.device('cuda' if is_cuda else 'cpu')\n",
    "torch.set_default_tensor_type(torch.cuda.FloatTensor if is_cuda else torch.DoubleTensor)\n",
    "dtype=torch.get_default_dtype()"
   ]
  },
  {
   "cell_type": "code",
   "execution_count": null,
   "metadata": {},
   "outputs": [],
   "source": [
    "tst_file_name = './BRCA_data_0328_train.csv'\n",
    "test_data=pd.read_csv(tst_file_name,index_col=0)\n",
    "test_data.loc[test_data['type']==2,'type']=1\n",
    "test_data.loc[test_data['type']==3,'type']=2\n",
    "\n",
    "X_name = ['age_at_diagnosis',\n",
    "          'tumor_history',\n",
    "          'BRCA_history',\n",
    "          'OV_history',\n",
    "          'tumor_family_history',\n",
    "          'BRCA_family_history',\n",
    "          'OV_family_history',\n",
    "          'pancreatic_cancer_family_history',\n",
    "          'mbc_cancer_family_history',\n",
    "          'largest_diameter',\n",
    "          'grade',\n",
    "          'AR_grade',\n",
    "          'ER_grade',\n",
    "          'PR_grade',\n",
    "          'Ki67',\n",
    "          'CK5_6_intensity',\n",
    "          'EGFR_intensity',\n",
    "          'Lymph_node_status',\n",
    "          'age',\n",
    "          'HER2_0',\n",
    "          'HER2_1',\n",
    "          'P53_0',\n",
    "          'P53_2',\n",
    "          'multifocal_1',\n",
    "          'multifocal_2']\n",
    "y_name='type'\n",
    "tst_data, tst_label = test_data[X_name].values, test_data[y_name].values"
   ]
  },
  {
   "cell_type": "code",
   "execution_count": null,
   "metadata": {},
   "outputs": [],
   "source": [
    "brca_result=load_file('./model.blosc')\n",
    "batch_spec={int(key):int(val) for key, val in brca_result['batch_spec'].items()}\n",
    "bcra_forest=BRCAForest(brca_result['state_forest'], brca_result['h1'], brca_result['h2'], brca_result['drop_prob'], brca_result['dtype'], brca_result['device'])"
   ]
  },
  {
   "cell_type": "code",
   "execution_count": null,
   "metadata": {},
   "outputs": [],
   "source": [
    "BRCAForest.__dict__"
   ]
  },
  {
   "cell_type": "code",
   "execution_count": null,
   "metadata": {},
   "outputs": [],
   "source": [
    "probs_multi, probs_binary=bcra_forest.probability(tst_data)"
   ]
  },
  {
   "cell_type": "code",
   "execution_count": null,
   "metadata": {},
   "outputs": [],
   "source": [
    "probs_multi\n",
    "#np.savetxt(\"./Probability/output.txt\", probs_multi)"
   ]
  },
  {
   "cell_type": "code",
   "execution_count": null,
   "metadata": {},
   "outputs": [],
   "source": [
    "probs_binary\n",
    "#np.savetxt(\"./Probability/output.txt\", probs_binary)"
   ]
  },
  {
   "cell_type": "code",
   "execution_count": null,
   "metadata": {},
   "outputs": [],
   "source": [
    "probs=np.concatenate((probs_binary,probs_multi),axis = 1)\n",
    "#np.savetxt(\"./Probability/output.txt\", probs, delimiter=\"\\t\")"
   ]
  },
  {
   "cell_type": "code",
   "execution_count": null,
   "metadata": {},
   "outputs": [],
   "source": [
    "pred_multi, pred_binary=bcra_forest.predict(tst_data)"
   ]
  },
  {
   "cell_type": "code",
   "execution_count": null,
   "metadata": {
    "scrolled": true
   },
   "outputs": [],
   "source": [
    "pred_multi"
   ]
  },
  {
   "cell_type": "code",
   "execution_count": null,
   "metadata": {},
   "outputs": [],
   "source": [
    "pred_binary"
   ]
  }
 ],
 "metadata": {
  "kernelspec": {
   "display_name": "Python 3",
   "language": "python",
   "name": "python3"
  },
  "language_info": {
   "codemirror_mode": {
    "name": "ipython",
    "version": 3
   },
   "file_extension": ".py",
   "mimetype": "text/x-python",
   "name": "python",
   "nbconvert_exporter": "python",
   "pygments_lexer": "ipython3",
   "version": "3.9.5"
  }
 },
 "nbformat": 4,
 "nbformat_minor": 4
}
